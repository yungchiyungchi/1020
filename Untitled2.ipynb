{
  "nbformat": 4,
  "nbformat_minor": 0,
  "metadata": {
    "colab": {
      "provenance": []
    },
    "kernelspec": {
      "name": "python3",
      "display_name": "Python 3"
    },
    "language_info": {
      "name": "python"
    }
  },
  "cells": [
    {
      "cell_type": "code",
      "execution_count": null,
      "metadata": {
        "colab": {
          "base_uri": "https://localhost:8080/"
        },
        "id": "AAd7wKv5CAKE",
        "outputId": "14cda715-f2ee-4b39-9e89-ca290a8a3836"
      },
      "outputs": [
        {
          "output_type": "stream",
          "name": "stdout",
          "text": [
            "請輸入一個數字:4\n",
            "1*1=1\n",
            "1*2=2\n",
            "1*3=3\n",
            "1*4=4\n",
            "2*1=2\n",
            "2*2=4\n",
            "2*3=6\n",
            "2*4=8\n",
            "3*1=3\n",
            "3*2=6\n",
            "3*3=9\n",
            "3*4=12\n",
            "4*1=4\n",
            "4*2=8\n",
            "4*3=12\n",
            "4*4=16\n"
          ]
        }
      ],
      "source": [
        "num_str=input(\"請輸入一個數字:\")\n",
        "num=int(num_str)\n",
        "for i in range(1,num+1):\n",
        "  for j in range(1,num+1):\n",
        "    product=i*j\n",
        "    print(f\"{i}*{j}={product}\")\n"
      ]
    },
    {
      "cell_type": "code",
      "source": [
        "import random\n",
        "target_number = random.randint(1,100)\n",
        "print(\"歡迎參加猜數字遊戲！\")\n",
        "while True:\n",
        "  num=int(input(\"請輸入一個數字:\"))\n",
        "  if num>target_number:\n",
        "    print(\"too large\")\n",
        "  elif num<target_number:\n",
        "    print(\"too small\")\n",
        "  else:\n",
        "    print(\"恭喜你答對!\")\n",
        "    print(\"遊戲結束。\")\n",
        "    break"
      ],
      "metadata": {
        "id": "LVpY33fqGn4B",
        "colab": {
          "base_uri": "https://localhost:8080/"
        },
        "outputId": "fb25f225-eae9-418f-a947-f29f4739d563"
      },
      "execution_count": 28,
      "outputs": [
        {
          "output_type": "stream",
          "name": "stdout",
          "text": [
            "歡迎參加猜數字遊戲！\n",
            "請輸入一個數字:50\n",
            "too large\n",
            "請輸入一個數字:40\n",
            "too large\n",
            "請輸入一個數字:30\n",
            "too large\n",
            "請輸入一個數字:20\n",
            "too large\n",
            "請輸入一個數字:10\n",
            "too large\n",
            "請輸入一個數字:1\n",
            "恭喜你答對!\n",
            "遊戲結束。\n"
          ]
        }
      ]
    }
  ]
}